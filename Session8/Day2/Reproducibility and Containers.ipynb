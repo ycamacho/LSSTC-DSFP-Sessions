{
 "cells": [
  {
   "cell_type": "markdown",
   "metadata": {
    "slideshow": {
     "slide_type": "slide"
    }
   },
   "source": [
    "# Reproducibility and Containers\n",
    "\n",
    "J. S. Oishi"
   ]
  },
  {
   "cell_type": "markdown",
   "metadata": {
    "slideshow": {
     "slide_type": "slide"
    }
   },
   "source": [
    "## What is Reproducibility?\n",
    "\n",
    "[nomenclature](https://www.ncbi.nlm.nih.gov/pmc/articles/PMC5778115/)\n",
    "\n",
    "   * can you in the future redo a calculation for a paper? can another person in your group? \n",
    "       - **\"repeatbility\"**\n",
    "   * can someone download everything you did, run it, and get the same result? \n",
    "       - **\"replicability\"**\n",
    "   * can someone read your paper, do a clean room implementation (or use another code), access the datasource, and reproduce your results independantly? \n",
    "       - **\"reproducibility\"**"
   ]
  },
  {
   "cell_type": "markdown",
   "metadata": {
    "slideshow": {
     "slide_type": "slide"
    }
   },
   "source": [
    "## Open-source is not enough\n",
    "\n",
    "Our code, [Dedalus Project](https://bitbucket.org/dedalus-project/dedalus) relies on (arrows indicate dependencies of the dependencies)\n",
    "\n",
    "**Stack**\n",
    "\n",
    "* numpy --> BLAS --> Vendor provided (e.g. Accelerate, Intel MKL)? OpenBLAS?\n",
    "* scipy --> UMFPACK (for sparse Linear Algebra) --> BLAS\n",
    "* Python\n",
    "* hdf5\n",
    "* mpi4py --> MPI --> Vendor provided? OpenMPI? MPICH?\n",
    "* more\n",
    "\n",
    "See [install script](https://bitbucket.org/dedalus-project/dedalus/src/b1a3cfad34b08573107ec5a5fd41396abab6e668/docs/install.sh?at=default&fileviewer=file-view-default)\n"
   ]
  },
  {
   "cell_type": "markdown",
   "metadata": {
    "slideshow": {
     "slide_type": "slide"
    }
   },
   "source": [
    "## Also...shouldn't your results NOT rely on YOUR code?\n",
    "\n",
    "Examples from [this paper](https://www.sciencedirect.com/science/article/pii/S2590055219300289)\n",
    "\n",
    "<img src=conv_test_problem.png>"
   ]
  },
  {
   "cell_type": "markdown",
   "metadata": {},
   "source": [
    "## Enter containers\n",
    "\n",
    "<img src=\"docker.png\">"
   ]
  },
  {
   "cell_type": "markdown",
   "metadata": {
    "slideshow": {
     "slide_type": "slide"
    }
   },
   "source": [
    "## Images vs Containers\n",
    "\n",
    "An **image** is a blob that contains *everything* you need to run software:\n",
    "\n",
    "* an OS (Linux; your choice of distribution)\n",
    "* libraries, compilers, etc\n",
    "* the software you want to run\n",
    "\n",
    "A **container** is an image running on a computer. It functions as though it is its own computer (though it isn't; it is *Not* a virtual machine!), and isolates your program."
   ]
  },
  {
   "cell_type": "markdown",
   "metadata": {
    "slideshow": {
     "slide_type": "slide"
    }
   },
   "source": [
    "## Dockerfiles\n",
    "\n",
    "An image is created by a Dockerfile. Here's a simple one.\n",
    "\n",
    "```bash\n",
    "FROM debian:latest\n",
    "\n",
    "RUN apt-get -y update && apt-get install -y wget sudo\n",
    "\n",
    "RUN useradd -ms /bin/bash dedalus && echo \"dedalus:dedalus\" | chpasswd && adduser dedalus sudo\n",
    "\n",
    "USER dedalus\n",
    "CMD /bin/bash\n",
    "```"
   ]
  },
  {
   "cell_type": "markdown",
   "metadata": {
    "slideshow": {
     "slide_type": "slide"
    }
   },
   "source": [
    "## Dockerhub\n",
    "\n",
    "Like github, [dockerhub](https://hub.docker.com) stores images. \n",
    "\n",
    "Unlike github, dockerhub is automatically connected to the docker runtime:\n",
    "\n",
    "**please don't run this right now**\n",
    "```\n",
    "docker run -it -p 8888:8888 -v $PWD/data:/data -w /data tensorflow/tensorflow:1.13.1-py3-jupyter bash\n",
    "```\n",
    "\n",
    "will just grab this image without you having to do anything!"
   ]
  },
  {
   "cell_type": "code",
   "execution_count": null,
   "metadata": {},
   "outputs": [],
   "source": []
  }
 ],
 "metadata": {
  "celltoolbar": "Slideshow",
  "kernelspec": {
   "display_name": "Python 3",
   "language": "python",
   "name": "python3"
  },
  "language_info": {
   "codemirror_mode": {
    "name": "ipython",
    "version": 3
   },
   "file_extension": ".py",
   "mimetype": "text/x-python",
   "name": "python",
   "nbconvert_exporter": "python",
   "pygments_lexer": "ipython3",
   "version": "3.6.8"
  }
 },
 "nbformat": 4,
 "nbformat_minor": 2
}
