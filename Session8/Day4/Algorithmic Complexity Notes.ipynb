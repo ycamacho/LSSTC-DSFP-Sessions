{
 "cells": [
  {
   "cell_type": "markdown",
   "metadata": {
    "slideshow": {
     "slide_type": "slide"
    }
   },
   "source": [
    "# Algorithmic Complexity\n",
    "\n",
    "Notes by J. S. Oishi"
   ]
  },
  {
   "cell_type": "code",
   "execution_count": null,
   "metadata": {
    "slideshow": {
     "slide_type": "skip"
    }
   },
   "outputs": [],
   "source": [
    "%matplotlib notebook\n",
    "import numpy as np\n",
    "import matplotlib.pyplot as plt\n"
   ]
  },
  {
   "cell_type": "markdown",
   "metadata": {
    "slideshow": {
     "slide_type": "slide"
    }
   },
   "source": [
    "## How long will my code take to run?"
   ]
  },
  {
   "cell_type": "markdown",
   "metadata": {
    "slideshow": {
     "slide_type": "fragment"
    }
   },
   "source": [
    "Today, we will be concerned *solely* with **time complexity**. \n",
    "\n",
    "Formally, we want to know $T(d)$, where $d$ is any given dataset and $T(d)$ gives the *total run time*."
   ]
  },
  {
   "cell_type": "markdown",
   "metadata": {
    "slideshow": {
     "slide_type": "slide"
    }
   },
   "source": [
    "## Let's begin with a simple problem. \n",
    "\n",
    "How many instructions does the following bit of code take? Go ahead and assume that you can ignore the machinery in the `if` and `for` statements."
   ]
  },
  {
   "cell_type": "code",
   "execution_count": null,
   "metadata": {
    "slideshow": {
     "slide_type": "fragment"
    }
   },
   "outputs": [],
   "source": [
    "def mini(x):\n",
    "    n = len(x)\n",
    "    mini = x[0]\n",
    "    for i in range(n):\n",
    "        if x[i] < mini:\n",
    "            mini= x[i]\n",
    "    return mini"
   ]
  },
  {
   "cell_type": "markdown",
   "metadata": {
    "slideshow": {
     "slide_type": "fragment"
    }
   },
   "source": [
    "**Go ahead and work it out with your neighbors.**"
   ]
  },
  {
   "cell_type": "code",
   "execution_count": null,
   "metadata": {
    "slideshow": {
     "slide_type": "slide"
    }
   },
   "outputs": [],
   "source": [
    "x = np.random.rand(1000)"
   ]
  },
  {
   "cell_type": "code",
   "execution_count": null,
   "metadata": {
    "slideshow": {
     "slide_type": "slide"
    }
   },
   "outputs": [],
   "source": [
    "print(mini(x))\n",
    "print(x.min())"
   ]
  },
  {
   "cell_type": "markdown",
   "metadata": {
    "slideshow": {
     "slide_type": "slide"
    }
   },
   "source": [
    "## The answer\n",
    "\n",
    "Each time the function is called, we have \n",
    "\n",
    "```python\n",
    "n = len(x)\n",
    "mini = x[0]\n",
    "``` \n",
    "\n",
    "that's two instructions (again, ignoring how much goes into the `len` call). \n",
    "\n",
    "Then, the for loop body requires either one or two instructions. You always have the comparison `x[i] < mini`, but you may or may not have the assignment `mini = x[i]`.\n"
   ]
  },
  {
   "cell_type": "markdown",
   "metadata": {
    "slideshow": {
     "slide_type": "slide"
    }
   },
   "source": [
    "## Exercise\n",
    "Compute the number  number of instructions for this input data \n",
    "\n",
    "```python\n",
    "x = [4, 3, 2, 1]\n",
    "```\n",
    "and \n",
    "\n",
    "```python\n",
    "y = [1, 3, 2, 4]\n",
    "```"
   ]
  },
  {
   "cell_type": "markdown",
   "metadata": {
    "slideshow": {
     "slide_type": "fragment"
    }
   },
   "source": [
    "$N_{inst}(x) = 9$\n",
    "\n",
    "$N_{inst}(y) = 7$"
   ]
  },
  {
   "cell_type": "markdown",
   "metadata": {
    "slideshow": {
     "slide_type": "slide"
    }
   },
   "source": [
    "## As usual, pessimism is the most useful view\n",
    "The answer to \"how long does this take\" is...it depends on the input. \n",
    "\n",
    "Since we would like to know how long an algorithm will take *before* we run it, let's examine the **worst case scenario**.\n",
    "\n",
    "This allows us to looking for from $T(d)$ to $f(n)$, where $n \\equiv \\mathrm{size}(d)$ is the *size* of the dataset."
   ]
  },
  {
   "cell_type": "markdown",
   "metadata": {
    "slideshow": {
     "slide_type": "slide"
    }
   },
   "source": [
    "For our simple problem,\n",
    "\n",
    "$$f(n) = 2 + 4n$$"
   ]
  },
  {
   "cell_type": "markdown",
   "metadata": {
    "slideshow": {
     "slide_type": "slide"
    }
   },
   "source": [
    "## Asymptotics\n",
    "\n",
    "Let's look at a pair of cubic polynomials,\n",
    "\n",
    "$$ f(n) = f_0 + f_1 n + f_2 n^2 + f_3 n^3 $$\n",
    "$$ g(n) = g_0 + g_1 n + g_2 n^2 + g_3 n^3 $$"
   ]
  },
  {
   "cell_type": "code",
   "execution_count": null,
   "metadata": {
    "slideshow": {
     "slide_type": "subslide"
    }
   },
   "outputs": [],
   "source": [
    "n = np.linspace(0,1000,10000)\n",
    "f0 = 2; f1 = 1; f2 = 10; f3 = 2\n",
    "g0 = 0; g1 = 10; g2 = 1; g3 = 1\n",
    "f = f0 + f1*n + f2*n**2 + f3*n**3\n",
    "g = g0 + g1*n + g2*n**2 + g3*n**3"
   ]
  },
  {
   "cell_type": "code",
   "execution_count": null,
   "metadata": {
    "scrolled": false,
    "slideshow": {
     "slide_type": "slide"
    }
   },
   "outputs": [],
   "source": [
    "plt.figure()\n",
    "plt.plot(n, f, label='f')\n",
    "plt.plot(n, g, label='g')\n",
    "plt.xlim(0,2)\n",
    "plt.ylim(0,20)\n",
    "plt.legend()"
   ]
  },
  {
   "cell_type": "markdown",
   "metadata": {
    "slideshow": {
     "slide_type": "subslide"
    }
   },
   "source": [
    "Clearly, we can drop the lower order terms *and* the coefficients $f_3$ and $g_3$.\n",
    "\n",
    "**We call this** \n",
    "\n",
    "$$O(n^3)$$, \n",
    "\n",
    "and we say our algorithm is \"$n^3$\", meaning **no worse than $n^3$**.\n"
   ]
  },
  {
   "cell_type": "markdown",
   "metadata": {
    "slideshow": {
     "slide_type": "subslide"
    }
   },
   "source": [
    "Of course this is exactly the same notation and meaning as when we do a series expansion in any other calculation,\n",
    "\n",
    "$$ e^{x} = 1 + x + \\frac{x^2}{2} + O(x^3), x\\to 0$$."
   ]
  },
  {
   "cell_type": "markdown",
   "metadata": {
    "slideshow": {
     "slide_type": "slide"
    }
   },
   "source": [
    "## An example\n",
    "\n",
    "Let's take the force calculation for an N-body simulation. We recall we can write this as \n",
    "\n",
    "$$\\ddot{\\mathbf{r}}_i = -G\\sum_{i \\ne j} \\frac{m_j \\mathbf{r}_{ij}}{r_{ij}^3},$$\n",
    "\n",
    "for each particle $i$. This is fairly easy to analyze."
   ]
  },
  {
   "cell_type": "markdown",
   "metadata": {
    "slideshow": {
     "slide_type": "fragment"
    }
   },
   "source": [
    "**Calculate the complexity with your neighbors**"
   ]
  },
  {
   "cell_type": "markdown",
   "metadata": {
    "slideshow": {
     "slide_type": "slide"
    }
   },
   "source": [
    "## Some Code\n",
    "\n",
    "This is a very simple implementation of a force calculator that only calculates the $x$ component (for unit masses!)."
   ]
  },
  {
   "cell_type": "code",
   "execution_count": null,
   "metadata": {
    "slideshow": {
     "slide_type": "fragment"
    }
   },
   "outputs": [],
   "source": [
    "def f_x(particles):\n",
    "    G = 1\n",
    "    a_x = np.empty(len(particles))\n",
    "    for i, p in enumerate(particles):\n",
    "        for j, p in enumerate(particles):\n",
    "            if j != i:\n",
    "                a_x[i] -= G*p.x/(p.x**2 + p.y**2 + p.z**2)**1.5"
   ]
  },
  {
   "cell_type": "code",
   "execution_count": null,
   "metadata": {
    "slideshow": {
     "slide_type": "skip"
    }
   },
   "outputs": [],
   "source": [
    "class Particle:\n",
    "    def __init__(self, r, v):\n",
    "        self.r = r\n",
    "        self.v = v\n",
    "    @property\n",
    "    def x(self):\n",
    "        return self.r[0]\n",
    "    @property\n",
    "    def y(self):\n",
    "        return self.r[1]\n",
    "        \n",
    "    @property\n",
    "    def z(self):\n",
    "        return self.r[2]"
   ]
  },
  {
   "cell_type": "markdown",
   "metadata": {
    "slideshow": {
     "slide_type": "slide"
    }
   },
   "source": [
    "## Test it!\n",
    "\n",
    "Theory is all well and good, but let's do a numerical experiment."
   ]
  },
  {
   "cell_type": "code",
   "execution_count": null,
   "metadata": {
    "slideshow": {
     "slide_type": "fragment"
    }
   },
   "outputs": [],
   "source": [
    "nn = np.array([10, 100, 300, 1000])\n",
    "nnn = np.linspace(nn[0],nn.max(),10000)\n",
    "p1 = [Particle(np.random.rand(3),(0,0,0)) for i in range(nn[0])]\n",
    "p2 = [Particle(np.random.rand(3),(0,0,0)) for i in range(nn[1])]\n",
    "p3 = [Particle(np.random.rand(3),(0,0,0)) for i in range(nn[2])]\n",
    "p4 = [Particle(np.random.rand(3),(0,0,0)) for i in range(nn[3])]"
   ]
  },
  {
   "cell_type": "code",
   "execution_count": null,
   "metadata": {
    "slideshow": {
     "slide_type": "fragment"
    }
   },
   "outputs": [],
   "source": [
    "t1 = %timeit -o f_x(p1)\n",
    "t2 = %timeit -o f_x(p2)\n",
    "t3 = %timeit -o f_x(p3)\n",
    "t4 = %timeit -o f_x(p4)\n",
    "times = np.array([t1.average, t2.average, t3.average, t4.average])"
   ]
  },
  {
   "cell_type": "markdown",
   "metadata": {
    "slideshow": {
     "slide_type": "skip"
    }
   },
   "source": [
    "## Plot the results..."
   ]
  },
  {
   "cell_type": "code",
   "execution_count": null,
   "metadata": {
    "scrolled": false,
    "slideshow": {
     "slide_type": "slide"
    }
   },
   "outputs": [],
   "source": [
    "plt.figure()\n",
    "plt.loglog(nn,times,'x', label='data')\n",
    "plt.loglog(nnn,times[0]*(nnn/nnn[0])**2, label=r'$O(n^2)$')\n",
    "plt.legend();plt.xlabel('data size');plt.ylabel('run time (s)')"
   ]
  },
  {
   "cell_type": "markdown",
   "metadata": {
    "slideshow": {
     "slide_type": "slide"
    }
   },
   "source": [
    "## Several Common Asymptotics"
   ]
  },
  {
   "cell_type": "code",
   "execution_count": null,
   "metadata": {
    "slideshow": {
     "slide_type": "fragment"
    }
   },
   "outputs": [],
   "source": [
    "plt.figure()\n",
    "plt.loglog(nn,times,'x', label='data')\n",
    "plt.loglog(nnn,t1.average*(nnn/nnn[0])**3, label=r'$O(n^3)$')\n",
    "plt.loglog(nnn,times[0]*(nnn/nnn[0])**2, label=r'$O(n^2)$')\n",
    "plt.loglog(nnn,times[0]*(nnn/nnn[0]), label=r'$O(n)$')\n",
    "plt.loglog(nnn,t1.average*(nnn/nnn[0])*np.log(nnn/nnn[0]), label=r'$O(n \\log(n))$')\n",
    "\n",
    "plt.legend()\n",
    "plt.xlabel('data size')\n",
    "plt.ylabel('run time (s)')"
   ]
  },
  {
   "cell_type": "markdown",
   "metadata": {},
   "source": [
    "# But..."
   ]
  },
  {
   "cell_type": "markdown",
   "metadata": {
    "slideshow": {
     "slide_type": "slide"
    }
   },
   "source": [
    "## Consider the *problem*\n",
    "\n",
    "Let's talk about solving PDES:\n",
    "\n",
    "$$\\frac{\\partial \\mathbf{u}}{\\partial t} + \\mathbf{u} \\cdot \\nabla \\mathbf{u} = -\\frac{\\nabla p}{\\rho} + \\nu \\nabla^2 \\mathbf{u} $$\n",
    "\n",
    "Let's focus on *two* ways of calculating gradients.\n",
    "\n",
    "**Finite Difference**\n",
    "$$\\frac{\\partial u}{\\partial x} \\simeq \\frac{u_{i+1} - u_{i-1}}{\\Delta x}$$\n",
    "\n",
    "**Spectral**\n",
    "$$\\frac{\\partial u}{\\partial x} \\simeq i k_j \\sum_{j = 0}^{N} f_j \\exp{i k_j x}$$"
   ]
  },
  {
   "cell_type": "markdown",
   "metadata": {
    "slideshow": {
     "slide_type": "slide"
    }
   },
   "source": [
    "## Scaling"
   ]
  },
  {
   "cell_type": "code",
   "execution_count": null,
   "metadata": {
    "slideshow": {
     "slide_type": "fragment"
    }
   },
   "outputs": [],
   "source": [
    "plt.figure()\n",
    "plt.loglog(nnn,times[0]*(nnn/nnn[0]), label=r'$O(n)$ finite difference')\n",
    "plt.loglog(nnn,t1.average*(nnn/nnn[0])*np.log(nnn/nnn[0]), label=r'$O(n \\log(n))$ spectral')\n",
    "\n",
    "plt.legend()\n",
    "plt.xlabel('data size')\n",
    "plt.ylabel('run time (s)')"
   ]
  },
  {
   "cell_type": "markdown",
   "metadata": {
    "slideshow": {
     "slide_type": "slide"
    }
   },
   "source": [
    "<img src=\"Screenshot 2019-03-22 at 20.34.57.png\">"
   ]
  }
 ],
 "metadata": {
  "celltoolbar": "Slideshow",
  "kernelspec": {
   "display_name": "Python 3",
   "language": "python",
   "name": "python3"
  },
  "language_info": {
   "codemirror_mode": {
    "name": "ipython",
    "version": 3
   },
   "file_extension": ".py",
   "mimetype": "text/x-python",
   "name": "python",
   "nbconvert_exporter": "python",
   "pygments_lexer": "ipython3",
   "version": "3.6.8"
  }
 },
 "nbformat": 4,
 "nbformat_minor": 2
}
