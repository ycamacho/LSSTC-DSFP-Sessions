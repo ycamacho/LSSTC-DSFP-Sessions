{
 "cells": [
  {
   "cell_type": "markdown",
   "metadata": {},
   "source": [
    "# Scaling and Fourier Transforms\n",
    "\n",
    "**Version 0.1**\n",
    "\n",
    "\n",
    "* * *\n",
    "\n",
    "By J. S. Oishi (Bates College)"
   ]
  },
  {
   "cell_type": "code",
   "execution_count": 1,
   "metadata": {},
   "outputs": [],
   "source": [
    "%matplotlib notebook\n",
    "import numpy as np\n",
    "import matplotlib.pyplot as plt"
   ]
  },
  {
   "cell_type": "markdown",
   "metadata": {},
   "source": [
    "## Problem 1) Implement a Simple Fourier Transform\n",
    "\n",
    "The Fourier transform is one of the most important discoveries in applied math, with particular importance for the study of partial differential equations. Given that the majority of our models of the physical world are based on PDEs, this makes it important for studying the universe. Of course, it's had a few practical applications as well.\n",
    "\n",
    "[This](https://betterexplained.com/articles/an-interactive-guide-to-the-fourier-transform/) is a very good introduction to the concept. \n",
    "\n",
    "For our purposes, though, let's just focus on the *discrete, forward* FT, aka the DFT\n",
    "\n",
    "$$F_k = \\sum_{j=0}^{N-1} f_j e^{-i \\omega_k t_j}.$$\n",
    "\n",
    "This takes a series of data $f_j$ and produces another series of data $F_k$. The data must be sampled at equidistant points, that is $\\Delta t$ must be constant. The DFT *assumes* the data $[f_0, f_1, \\dots, f_{N-1}]$ is periodic. NB: I am here using the DFT assuming the data is a time signal and we are producing a frequency domain; this can be thought of as sampling a spatial direction $x$ with wavenumbers $k$  The frequencies are given by \n",
    "\n",
    "$$\\omega_k = \\frac{2\\pi k}{T}$$,\n",
    "\n",
    "where T is the total duration of the signal, and $0 < k < N$. For simplicity, we'll assume only even sized inputs.  \n",
    "\n",
    "**Problem 1a**\n",
    "\n",
    "Just looking at the definition of the DFT, attempt to determine the complexity of the algorithm. Write it down somewhere; discuss it with your friends. "
   ]
  },
  {
   "cell_type": "markdown",
   "metadata": {},
   "source": [
    "**Problem 1b**\n",
    "For computation, it helps to notice that $F_k$ represents the $k$th element of an output array $F$ and similarly, $f_j$ is the $j$th element of the input array $f$. Thus, we can write the DFT as a matrix multiplication problem:\n",
    "\n",
    "$$\\mathbf{F} = \\mathbf{\\mathcal{A}} \\mathbf{f},$$\n",
    "\n",
    "where $\\mathbf{\\mathcal{A}}$ is a square $N \\times N$ matrix. The complexity of the algorithm should now be quite obvious. **Was your guess correct?**\n",
    "\n",
    "Now, find $\\mathbf{\\mathcal{A}}$ by writing $\\mathcal{A}_{jk}$ (*note we avoid $i$ as an index to avoid confusion with $i = \\sqrt{-1}$*).\n",
    "\n",
    "${t_j = j\\Delta t = jT/N}$\n",
    "\n",
    "$A_{kj} = e^{-i \\omega_k t_j} =  e^{-i \\frac{2\\pi k}{T} \\frac{jT}{N}} =  e^{-i \\frac{2\\pi k j }{N}}$\n",
    "\n",
    "There is a VERY interesting property you should find when you calculate $\\mathbf{\\mathcal{A}}_{ij}$. It is related to the fact that the call signature for the `simple_ft` below only includes the data itself, and not the times the data is sampled at."
   ]
  },
  {
   "cell_type": "code",
   "execution_count": 53,
   "metadata": {},
   "outputs": [
    {
     "data": {
      "text/plain": [
       "[[(1+0j), (1+0j), (1+0j)],\n",
       " [(1+0j),\n",
       "  (-0.4999999999999998-0.8660254037844388j),\n",
       "  (-0.5000000000000004+0.8660254037844384j)],\n",
       " [(1+0j),\n",
       "  (-0.5000000000000004+0.8660254037844384j),\n",
       "  (-0.49999999999999917-0.8660254037844392j)]]"
      ]
     },
     "execution_count": 53,
     "metadata": {},
     "output_type": "execute_result"
    }
   ],
   "source": [
    "def A_kj(N):\n",
    "    A = [[np.exp(-1j*2.*np.pi*k*j/N) for k in range(N)] for j in range(N)]\n",
    "    return A\n",
    "\n",
    "A = A_kj(3)\n",
    "A"
   ]
  },
  {
   "cell_type": "markdown",
   "metadata": {},
   "source": [
    "**Problem 1c**\n",
    "\n",
    "Now, we need to make sure we use numpy's array features to ensure your DFT function is not unusably slow (remember, complexity only deals with the asymptotic behavior of a function!)."
   ]
  },
  {
   "cell_type": "markdown",
   "metadata": {},
   "source": [
    "Once you have $\\mathbf{\\mathcal{A}}_{ij}$, fill in the function definition for `simple_ft`.\n",
    "\n",
    "Questions to think about while writing this function:\n",
    " * Have I avoided all loops? (there should be NO loops in this function)\n",
    " * Could I make this an object and store $\\mathbf{\\mathcal{A}}$ during initialization?\n",
    " * What should the shape of `A` be? \n",
    "\n",
    "*Hints are hidden in this cell. Reveal them if you need them!*\n",
    "\n",
    "<!-- \n",
    "*Hint: you should use the `.dot()` method of the `A` matrix.*\n",
    "*Another hint: Use the fact that an array of shape (10,1) is different than an array of shape (10) and different from an array of shape (1,10), but the `.reshape`  method allows you to turn one into the other.\n",
    "-->"
   ]
  },
  {
   "cell_type": "code",
   "execution_count": 66,
   "metadata": {},
   "outputs": [],
   "source": [
    "def simple_ft(f):\n",
    "    \"\"\"given an (in general) complex array f, return the discrete fourier transform, F.\n",
    "    \"\"\"\n",
    "    #𝐅_k = A_kj*f_j\n",
    "    F_k = np.matmul(A_kj(len(f)),f)\n",
    "    #F_k = np.matmul(f, A_kj(len(f)))\n",
    "    return F_k\n",
    "    pass\n"
   ]
  },
  {
   "cell_type": "markdown",
   "metadata": {},
   "source": [
    "Once you have this, test it against this data. The correct solution is given in `test_ft_data`. Make a plot showing that your solution matches the test data."
   ]
  },
  {
   "cell_type": "code",
   "execution_count": 56,
   "metadata": {},
   "outputs": [],
   "source": [
    "t = np.linspace(0, 2*np.pi,10,endpoint=False)\n",
    "f = np.sin(t)"
   ]
  },
  {
   "cell_type": "code",
   "execution_count": 57,
   "metadata": {},
   "outputs": [],
   "source": [
    "test_ft_data = np.array([ 1.22464680e-16+0.00000000e+00j, -5.50355954e-16-5.00000000e+00j,\n",
    "  1.22464680e-16-2.22044605e-16j,  1.94404292e-16+2.86638918e-16j,\n",
    "  1.22464680e-16-0.00000000e+00j,  9.95799250e-17+0.00000000e+00j,\n",
    "  1.22464680e-16+0.00000000e+00j,  1.94404292e-16-2.86638918e-16j,\n",
    "  1.22464680e-16+2.22044605e-16j, -5.50355954e-16+5.00000000e+00j])"
   ]
  },
  {
   "cell_type": "code",
   "execution_count": 67,
   "metadata": {},
   "outputs": [
    {
     "data": {
      "text/plain": [
       "array([ 3.33066907e-16+0.00000000e+00j,  5.55111512e-17-5.00000000e+00j,\n",
       "        2.49800181e-16+1.11022302e-16j,  3.88578059e-16+2.22044605e-16j,\n",
       "       -5.55111512e-17+3.88578059e-16j, -1.11022302e-16+1.98955933e-16j,\n",
       "        1.66533454e-16+0.00000000e+00j,  4.13558077e-15-2.88657986e-15j,\n",
       "        2.22044605e-16+1.22124533e-15j, -3.88578059e-15+5.00000000e+00j])"
      ]
     },
     "execution_count": 67,
     "metadata": {},
     "output_type": "execute_result"
    }
   ],
   "source": [
    "f_c = simple_ft(f)\n",
    "f_c"
   ]
  },
  {
   "cell_type": "markdown",
   "metadata": {},
   "source": [
    "## Problem 2) Asymptotics of the *Fast* Fourier Transform\n",
    "\n",
    "You have likely heard of the \"FFT\", or \"fast fourier transform.\" This is an *algorithm* for calculating the discrete fourier transform; you have already coded a different one. We are going to see \n",
    "\n",
    "Now, with your `simple_ft` function in hand, run it on data sets increasing in size over at least two orders of magnitude with `%timeit -o`.\n",
    "\n",
    "Do the same thing but use `np.fft.fft` on the exact same data. Plot both run times (appropriately normalized, as we did in the lecture) on the same log-log plot. \n",
    "\n",
    "Do you see anything interesting?"
   ]
  },
  {
   "cell_type": "markdown",
   "metadata": {},
   "source": [
    "## Challenge Problem\n",
    "\n",
    "* If you haven't already, replace the $O(N^2)$ brute-force gravitational force calculator from Monday with a Fast Multipole Method\n",
    "* Try to build a speed-competitive simple Fourier Transform algorithm (use an object to cache the matrix construction). Then race it against FFT. Do you see where they cross over (because at small $N$ prefactors matter, and asymptotics can lead us astray!)\n",
    "* Spherical harmonics have all of the power of spectral methods defined on the surface of the 2-sphere. However, they have no known fast transform (this is not quite true; see [here](), but it's an active area of research). Adapt your simple DFT calculator to do the Legendre transform for spherical harmonics. "
   ]
  },
  {
   "cell_type": "code",
   "execution_count": null,
   "metadata": {},
   "outputs": [],
   "source": [
    "# no code snippets provided here"
   ]
  }
 ],
 "metadata": {
  "kernelspec": {
   "display_name": "Python 3",
   "language": "python",
   "name": "python3"
  },
  "language_info": {
   "codemirror_mode": {
    "name": "ipython",
    "version": 3
   },
   "file_extension": ".py",
   "mimetype": "text/x-python",
   "name": "python",
   "nbconvert_exporter": "python",
   "pygments_lexer": "ipython3",
   "version": "3.6.7"
  }
 },
 "nbformat": 4,
 "nbformat_minor": 2
}
