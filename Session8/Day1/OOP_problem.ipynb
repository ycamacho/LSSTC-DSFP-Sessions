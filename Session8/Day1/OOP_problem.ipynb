{
 "cells": [
  {
   "cell_type": "markdown",
   "metadata": {},
   "source": [
    "# Building a Digital Orrery\n",
    "## An exercise in Object Oriented Programming\n",
    "\n",
    "**Version 0.1**\n",
    "\n",
    "It is your goal in this exercise to construct a Digital Orrery. An [orrery](https://en.wikipedia.org/wiki/Orrery) is a mechanical model of the Solar System. Here, we will generalize this to anything that is mechanically similar to *the* solar system: a collection of things bound gravitationally. \n",
    "\n",
    "\n",
    "<img src=\"https://upload.wikimedia.org/wikipedia/commons/4/48/Grand_orrery_in_Putnam_Gallery%2C_2009-11-24.jpg\" alt=\"Orrery\" width=\"600\"/>\n",
    "(image: wikimedia)\n",
    "\n",
    "\n",
    "* * *\n",
    "\n",
    "By J. S. Oishi (Bates College)"
   ]
  },
  {
   "cell_type": "code",
   "execution_count": null,
   "metadata": {},
   "outputs": [],
   "source": [
    "import numpy as np\n",
    "import matplotlib.pyplot as plt\n",
    "\n",
    "%matplotlib notebook"
   ]
  },
  {
   "cell_type": "markdown",
   "metadata": {},
   "source": [
    "## Problem 1) Building a basic set of objects\n",
    "\n",
    "Our first task is to map our problem onto a set of **objects** that we **instantiate** (that is, make **instances** of) in order to solve our problem.\n",
    "\n",
    "Let's outline the scope of our problem.\n",
    "\n",
    "A solar system exists in a Universe; here we can ignore the gravitational perturbation on the Solar System from the rest of the Universe. Our model will consist of a small number of bodies containing mass. It might also contain bodies without mass, so called \"test particles\".\n",
    "\n",
    "The problem to be solved numerically is the gravitational N-body problem,\n",
    "\n",
    "$$\\ddot{\\mathbf{r}}_i = -G\\sum_{i \\ne j} \\frac{m_j \\mathbf{r}_{ij}}{r_{ij}^3},$$\n",
    "\n",
    "where $\\mathbf{r}_{ij} \\equiv \\mathbf{r_i} - \\mathbf{r_j}$. This task itself can be broken into two components: \n",
    "\n",
    "* the force calculation\n",
    "* the ODE integrator to advance $\\mathbf{r}_i$ and $\\dot{\\mathbf{r}}_i$ forward in time"
   ]
  },
  {
   "cell_type": "markdown",
   "metadata": {},
   "source": [
    "**Problem 1a**\n",
    "\n",
    "In disucssion with a classmate, sketch out a set of classes that you will need to complete this project. Don't worry about things like numerical integrators yet. \n",
    "\n",
    "Also, sketch out interfaces (start with the constructor), but don't worry about writing code right now.\n",
    "\n",
    "*Once you're done, find me and I'll give you the minimal list of objects.*"
   ]
  },
  {
   "cell_type": "code",
   "execution_count": null,
   "metadata": {},
   "outputs": [],
   "source": [
    "class MyFirstClass():\n",
    "    pass\n",
    "\n",
    "class MySecondClass():\n",
    "    pass"
   ]
  },
  {
   "cell_type": "markdown",
   "metadata": {},
   "source": [
    "**Problem 1b**\n",
    "\n",
    "Wire them up! Now that you have the list, try them out. Python makes use of duck typing, you should too. That is, if your object has a mass `m`, a position `r` and a velocity `rdot`, it *is* a Body."
   ]
  },
  {
   "cell_type": "code",
   "execution_count": null,
   "metadata": {},
   "outputs": [],
   "source": [
    "r0 = np.array([0,0,0])\n",
    "rdot0 = np.array([0,0,0])"
   ]
  },
  {
   "cell_type": "code",
   "execution_count": null,
   "metadata": {},
   "outputs": [],
   "source": [
    "b = Body(1,r0, rdot0)"
   ]
  },
  {
   "cell_type": "markdown",
   "metadata": {},
   "source": [
    "## Problem 2\n",
    "\n",
    "Now, we code the numerical algorithms. We're going to do the most simple things possible: a *brute force* (\"direct N-Body\" if you're feeling fancy) force calculation, and a leapfrog time integrator.\n",
    "\n",
    "The leapfrog scheme is an explicit, second order scheme given by\n",
    "\n",
    "$$r_{i+1} = r_{i} + v_{i} \\Delta t + \\frac{\\Delta t^2}{2} a_{i}$$\n",
    "\n",
    "$$v_{i+1} = v_{i} + \\frac{\\Delta t}{2} (a_{i} + a_{i+1}),$$\n",
    "\n",
    "where $\\Delta t$ is the time step (which we'll just keep constant), and the subscript refers to the *iteration* number $i$. \n",
    "\n",
    "Note that this scheme requires a force update *in between* calculating $r_{i+1}$ and $v_{i+1}$."
   ]
  },
  {
   "cell_type": "markdown",
   "metadata": {},
   "source": [
    "**Problem 2a** \n",
    "\n",
    "Write a method that implements the force integrator. Test it on simple cases:\n",
    " * two equal 1 $M_\\odot$ objects in your universe, 1 AU apart\n",
    " * a $1\\ M_\\odot$ object and a $1\\ M_{\\oplus}$ object, 1 AU apart"
   ]
  },
  {
   "cell_type": "code",
   "execution_count": null,
   "metadata": {},
   "outputs": [],
   "source": []
  },
  {
   "cell_type": "markdown",
   "metadata": {
    "collapsed": true
   },
   "source": [
    "**Problem 2b**\n",
    "Write the leapfrog integration as a method in the `Universe` class. Test it on one particle with no force (what should it do?)"
   ]
  },
  {
   "cell_type": "code",
   "execution_count": null,
   "metadata": {},
   "outputs": [],
   "source": []
  },
  {
   "cell_type": "markdown",
   "metadata": {},
   "source": [
    "**Problem 2c** \n",
    " \n",
    "Wire it all up! Try a 3-body calculation of the Earth-Sun-Moon system. Try the Earth-Jupiter-Sun system! "
   ]
  },
  {
   "cell_type": "markdown",
   "metadata": {},
   "source": [
    "## Challenge Problem\n",
    "\n",
    "* Construct a visualization method for the `Universe` class\n",
    "* Read about the Fast Multipole Method (FMM) [here](https://math.nyu.edu/faculty/greengar/shortcourse_fmm.pdf) and implement one for the force calculation"
   ]
  },
  {
   "cell_type": "code",
   "execution_count": null,
   "metadata": {},
   "outputs": [],
   "source": [
    "# good luck!"
   ]
  }
 ],
 "metadata": {
  "kernelspec": {
   "display_name": "Python 3",
   "language": "python",
   "name": "python3"
  },
  "language_info": {
   "codemirror_mode": {
    "name": "ipython",
    "version": 3
   },
   "file_extension": ".py",
   "mimetype": "text/x-python",
   "name": "python",
   "nbconvert_exporter": "python",
   "pygments_lexer": "ipython3",
   "version": "3.6.8"
  }
 },
 "nbformat": 4,
 "nbformat_minor": 2
}
