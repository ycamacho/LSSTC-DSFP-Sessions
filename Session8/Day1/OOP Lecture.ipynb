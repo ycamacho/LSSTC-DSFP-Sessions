{
 "cells": [
  {
   "cell_type": "markdown",
   "metadata": {
    "slideshow": {
     "slide_type": "slide"
    }
   },
   "source": [
    "# Object Oriented Programming\n",
    "## J. S. Oishi"
   ]
  },
  {
   "cell_type": "code",
   "execution_count": null,
   "metadata": {
    "slideshow": {
     "slide_type": "subslide"
    }
   },
   "outputs": [],
   "source": [
    "%matplotlib inline\n",
    "import numpy as np\n",
    "import matplotlib.pyplot as plt"
   ]
  },
  {
   "cell_type": "markdown",
   "metadata": {
    "slideshow": {
     "slide_type": "slide"
    }
   },
   "source": [
    "# Programming \"Paradigms\"\n",
    "Ways of organizing programs\n",
    "\n",
    "* Procedural (e.g. FORTRAN, C)\n",
    "* Functional (e.g. LISP, Haskall)\n",
    "* Object Oriented (e.g. C++, Java)"
   ]
  },
  {
   "cell_type": "markdown",
   "metadata": {
    "slideshow": {
     "slide_type": "fragment"
    }
   },
   "source": [
    "### Python is...all of these\n",
    "\n",
    "Python is a multi-paradigmatic language; this is why you may have programed for years in python and not know what an object is."
   ]
  },
  {
   "cell_type": "markdown",
   "metadata": {
    "slideshow": {
     "slide_type": "slide"
    }
   },
   "source": [
    "## Problem\n",
    "\n",
    "Make a list of the first n squares."
   ]
  },
  {
   "cell_type": "markdown",
   "metadata": {
    "slideshow": {
     "slide_type": "slide"
    }
   },
   "source": [
    "## Procedural"
   ]
  },
  {
   "cell_type": "code",
   "execution_count": null,
   "metadata": {
    "slideshow": {
     "slide_type": "fragment"
    }
   },
   "outputs": [],
   "source": [
    "def square(n):\n",
    "    squares = []\n",
    "    for i in range(n):\n",
    "        squares.append(i**2)\n",
    "    return squares\n",
    "print(square(10))"
   ]
  },
  {
   "cell_type": "markdown",
   "metadata": {
    "slideshow": {
     "slide_type": "slide"
    }
   },
   "source": [
    "## Functional"
   ]
  },
  {
   "cell_type": "code",
   "execution_count": null,
   "metadata": {
    "slideshow": {
     "slide_type": "fragment"
    }
   },
   "outputs": [],
   "source": [
    "sq = lambda n: [i**2 for i in range(n)]\n",
    "\n",
    "print(sq(10)) #actually this isn't really functional! printing is a \"side effect\""
   ]
  },
  {
   "cell_type": "markdown",
   "metadata": {
    "slideshow": {
     "slide_type": "slide"
    }
   },
   "source": [
    "## Objects\n",
    "\n",
    "Objects have \n",
    "\n",
    "* data called **attributes**\n",
    "* functions to act on their data called **methods**"
   ]
  },
  {
   "cell_type": "code",
   "execution_count": null,
   "metadata": {
    "slideshow": {
     "slide_type": "fragment"
    }
   },
   "outputs": [],
   "source": [
    "class Observation(): # \"object\" and \"class\" are interchangable!\n",
    "    def __init__(self, data): # method\n",
    "        self.data = data #attribute\n",
    "    def average(self): # method\n",
    "        dsum = 0\n",
    "        for i,d in enumerate(self.data):\n",
    "            dsum += d\n",
    "        average=dsum/(i+1)\n",
    "        return average"
   ]
  },
  {
   "cell_type": "markdown",
   "metadata": {
    "slideshow": {
     "slide_type": "slide"
    }
   },
   "source": [
    "## Instances\n",
    "\n",
    "*Instances* are not the same thing as *objects*"
   ]
  },
  {
   "cell_type": "code",
   "execution_count": null,
   "metadata": {
    "slideshow": {
     "slide_type": "fragment"
    }
   },
   "outputs": [],
   "source": [
    "obs1 = Observation([0,1,2])\n",
    "obs2 = Observation([4,5,6])"
   ]
  },
  {
   "cell_type": "code",
   "execution_count": null,
   "metadata": {
    "slideshow": {
     "slide_type": "fragment"
    }
   },
   "outputs": [],
   "source": [
    "print(\"Avg 1 = {:e}; Avg 2 = {:e}\".format(obs1.average(), obs2.average()))\n",
    "print(\"Type of Avg 1 = {:}; Type of Avg 2 = {:}\".format(type(obs1), type(obs2)))"
   ]
  },
  {
   "cell_type": "code",
   "execution_count": null,
   "metadata": {
    "slideshow": {
     "slide_type": "slide"
    }
   },
   "outputs": [],
   "source": [
    "print(obs1.data)\n",
    "print(obs2.data)"
   ]
  },
  {
   "cell_type": "markdown",
   "metadata": {
    "slideshow": {
     "slide_type": "slide"
    }
   },
   "source": [
    "## Inheritance\n",
    "\n",
    "We can make new objects by adding to existing objects. This is called **inheritance**"
   ]
  },
  {
   "cell_type": "code",
   "execution_count": null,
   "metadata": {
    "slideshow": {
     "slide_type": "fragment"
    }
   },
   "outputs": [],
   "source": [
    "class TimeSeries(Observation): # inherits all the methods and attributes from Observation\n",
    "    def __init__(self, time, data):\n",
    "        self.time = time\n",
    "        Observation.__init__(self, data) # this calls the constructor of the base class\n",
    "        if len(self.time) != len(self.data):\n",
    "            raise ValueError(\"Time and data must have same length!\")\n",
    "    def stop_time(self):\n",
    "        return self.time[-1] # unclear why you would want this"
   ]
  },
  {
   "cell_type": "code",
   "execution_count": null,
   "metadata": {
    "slideshow": {
     "slide_type": "fragment"
    }
   },
   "outputs": [],
   "source": [
    "tobs = TimeSeries([0,1,2],[3,4,5])\n",
    "print(tobs)\n",
    "print(\"Stop time = {:e}\".format(tobs.stop_time())) # new method\n",
    "print(\"tobs average = {:e}\".format(tobs.average())) # but tobs also has methods from Observation"
   ]
  },
  {
   "cell_type": "markdown",
   "metadata": {
    "slideshow": {
     "slide_type": "slide"
    }
   },
   "source": [
    "## Objects in practice\n",
    "\n",
    "In python **everything** is an object:"
   ]
  },
  {
   "cell_type": "code",
   "execution_count": null,
   "metadata": {
    "slideshow": {
     "slide_type": "fragment"
    }
   },
   "outputs": [],
   "source": [
    "print(print) #functions are objects!\n",
    "dont_do_this = print # this is the object representing a function!\n",
    "dont_do_this(\"dont do this!\")"
   ]
  },
  {
   "cell_type": "markdown",
   "metadata": {
    "slideshow": {
     "slide_type": "slide"
    }
   },
   "source": [
    "## Example: Matplotlib\n",
    "\n",
    "Matplotlib has a completely object oriented way of dealing with plots, which is *very* well suited to complex figures.\n",
    "\n",
    "First, some dumb fake data."
   ]
  },
  {
   "cell_type": "code",
   "execution_count": null,
   "metadata": {
    "slideshow": {
     "slide_type": "fragment"
    }
   },
   "outputs": [],
   "source": [
    "x = np.linspace(0,2*np.pi, 1000) \n",
    "y_theory = np.sinc(x)\n",
    "y = y_theory + np.random.rand(1000)"
   ]
  },
  {
   "cell_type": "code",
   "execution_count": null,
   "metadata": {
    "slideshow": {
     "slide_type": "slide"
    }
   },
   "outputs": [],
   "source": [
    "fig = plt.figure(figsize=(8,8)) # create a figure object\n",
    "ax_data = fig.add_axes([0.1,0.4,0.8,0.8]) # figure objects have an add_axes method\n",
    "ax_residual = fig.add_axes([0.1,0.1,0.8,0.3]) \n",
    "\n",
    "# this is one axis\n",
    "ax_data.plot(x,y, label='sinc(x)') # a plot is a **method** of a set of axes!\n",
    "ax_data.legend() # so is a legend\n",
    "ax_data.set_ylabel('f(x)') # the labels are attributes, set_ylabel sets it\n",
    "# this is another...just refer to them by name!\n",
    "ax_residual.plot(x, y-y_theory, label='residual')\n",
    "ax_residual.legend()\n",
    "ax_residual.set_xlabel('x')\n",
    "ax_residual.set_ylabel('residual')"
   ]
  }
 ],
 "metadata": {
  "celltoolbar": "Slideshow",
  "kernelspec": {
   "display_name": "Python 3",
   "language": "python",
   "name": "python3"
  },
  "language_info": {
   "codemirror_mode": {
    "name": "ipython",
    "version": 3
   },
   "file_extension": ".py",
   "mimetype": "text/x-python",
   "name": "python",
   "nbconvert_exporter": "python",
   "pygments_lexer": "ipython3",
   "version": "3.6.8"
  }
 },
 "nbformat": 4,
 "nbformat_minor": 2
}
